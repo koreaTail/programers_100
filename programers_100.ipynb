{
 "cells": [
  {
   "attachments": {},
   "cell_type": "markdown",
   "metadata": {},
   "source": [
    "# 1"
   ]
  },
  {
   "cell_type": "code",
   "execution_count": 1,
   "metadata": {},
   "outputs": [],
   "source": [
    "#나의 풀이\n",
    "\n",
    "def solution(arr):\n",
    "    answer = 0\n",
    "    for i in range(len(arr)):\n",
    "        answer = answer + arr[i]\n",
    "        print(answer)\n",
    "    answer = answer/len(arr)\n",
    "    return answer"
   ]
  },
  {
   "cell_type": "code",
   "execution_count": 3,
   "metadata": {},
   "outputs": [],
   "source": [
    "# 타인 풀이\n",
    "\n",
    "import statistics\n",
    "\n",
    "def solution(arr):\n",
    "    return statistics.mean(arr)"
   ]
  },
  {
   "attachments": {},
   "cell_type": "markdown",
   "metadata": {},
   "source": [
    "# 2 행렬의 덧셈"
   ]
  },
  {
   "cell_type": "code",
   "execution_count": 5,
   "metadata": {},
   "outputs": [
    {
     "data": {
      "text/plain": [
       "[[4, 6], [7, 9]]"
      ]
     },
     "execution_count": 5,
     "metadata": {},
     "output_type": "execute_result"
    }
   ],
   "source": [
    "# 나의 풀이\n",
    "\n",
    "import numpy as np\n",
    "\n",
    "\n",
    "arr1 = [[1,2],[2,3]]\n",
    "arr2 = [[3,4],[5,6]]\n",
    "\n",
    "def solution(arr1, arr2):\n",
    "    arr1 = np.array(arr1)\n",
    "    arr2 = np.array(arr2)\n",
    "\n",
    "    answer = arr1 + arr2\n",
    "    answer = answer.tolist()\n",
    "    return answer\n",
    "\n",
    "solution(arr1, arr2)"
   ]
  },
  {
   "attachments": {},
   "cell_type": "markdown",
   "metadata": {},
   "source": [
    "# 3 수박수박수박수박수박수?"
   ]
  },
  {
   "attachments": {},
   "cell_type": "markdown",
   "metadata": {},
   "source": [
    "길이가 n이고, \"수박수박수박수....\"와 같은 패턴을 유지하는 문자열을 리턴하는 함수, solution을 완성하세요. 예를들어 n이 4이면 \"수박수박\"을 리턴하고 3이라면 \"수박수\"를 리턴하면 됩니다."
   ]
  },
  {
   "cell_type": "code",
   "execution_count": 9,
   "metadata": {},
   "outputs": [],
   "source": [
    "# 내 풀이\n",
    "\n",
    "\n",
    "# def solution(n):\n",
    "    \n",
    "#     if n == 1:\n",
    "#         a = \"수\"\n",
    "#     elif n == 2:\n",
    "#         a = \"수박\"\n",
    "#     elif n%2 == 1:\n",
    "#         a = \"수박\"*(n//2)+\"수\"\n",
    "#     else:\n",
    "#         a = \"수박\"*(n//2)\n",
    "#     return a\n",
    "\n",
    "# solution(100)\n",
    "\n",
    "#오 하고났는데 좋은 생각이 났다. 바로 n=1일때 굳이 따로 안해도 될지도?\n",
    "\n",
    "\n",
    "def solution(n):\n",
    "    \n",
    "    if n%2 == 1:\n",
    "        a = \"수박\"*(n//2)+\"수\"\n",
    "    else:\n",
    "        a = \"수박\"*(n//2)\n",
    "    return a\n"
   ]
  },
  {
   "attachments": {},
   "cell_type": "markdown",
   "metadata": {},
   "source": [
    "1. 처음에는 print 문으로 썼다. 프린트 문은 곱하기가 안된다 ^^;\n",
    "1. 두번째는 프린트 문을 빼버리고 리턴으로만 나오게 했다. 그래서 곱하기 성공.\n",
    "1. 생각해보니 n = 1, 2는 없어도 될거 같아서 삭제!"
   ]
  },
  {
   "cell_type": "code",
   "execution_count": 6,
   "metadata": {},
   "outputs": [],
   "source": [
    "# 타인 풀이\n",
    "\n",
    "def water_melon(n):\n",
    "    return \"수박\"*(n//2) + \"수\"*(n%2)"
   ]
  },
  {
   "attachments": {},
   "cell_type": "markdown",
   "metadata": {},
   "source": [
    "if 문으로 구분없이, 몫과 나누기로 한줄로 깔끔하게 구분지었다..   멋지다.."
   ]
  }
 ],
 "metadata": {
  "kernelspec": {
   "display_name": "base",
   "language": "python",
   "name": "python3"
  },
  "language_info": {
   "codemirror_mode": {
    "name": "ipython",
    "version": 3
   },
   "file_extension": ".py",
   "mimetype": "text/x-python",
   "name": "python",
   "nbconvert_exporter": "python",
   "pygments_lexer": "ipython3",
   "version": "3.9.13"
  },
  "orig_nbformat": 4,
  "vscode": {
   "interpreter": {
    "hash": "e4cce46d6be9934fbd27f9ca0432556941ea5bdf741d4f4d64c6cd7f8dfa8fba"
   }
  }
 },
 "nbformat": 4,
 "nbformat_minor": 2
}
